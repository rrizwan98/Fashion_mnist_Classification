{
  "nbformat": 4,
  "nbformat_minor": 0,
  "metadata": {
    "colab": {
      "name": "fashion.ipynb",
      "provenance": [],
      "collapsed_sections": [],
      "authorship_tag": "ABX9TyNU/Ap36/FnjQgO1HFVBwKx",
      "include_colab_link": true
    },
    "kernelspec": {
      "name": "python3",
      "display_name": "Python 3"
    },
    "accelerator": "GPU"
  },
  "cells": [
    {
      "cell_type": "markdown",
      "metadata": {
        "id": "view-in-github",
        "colab_type": "text"
      },
      "source": [
        "<a href=\"https://colab.research.google.com/github/rrizwan98/Fashion_mnist_Classification/blob/main/fashion.ipynb\" target=\"_parent\"><img src=\"https://colab.research.google.com/assets/colab-badge.svg\" alt=\"Open In Colab\"/></a>"
      ]
    },
    {
      "cell_type": "code",
      "metadata": {
        "id": "G_-HidNgAd7l"
      },
      "source": [
        "from google.colab import drive\n",
        "drive.mount('/content/drive', force_remount=True)"
      ],
      "execution_count": null,
      "outputs": []
    },
    {
      "cell_type": "code",
      "metadata": {
        "id": "dLwiIZE0BXk-",
        "colab": {
          "base_uri": "https://localhost:8080/",
          "height": 34
        },
        "outputId": "a9d6c348-a154-4e10-9204-6599b710638a"
      },
      "source": [
        "from zipfile import ZipFile\n",
        "file_name=\"/content/drive/My Drive/fashionmnist.zip\"\n",
        "with ZipFile(file_name,'r')as zip:\n",
        "  zip.extractall()\n",
        "  print('raza')"
      ],
      "execution_count": null,
      "outputs": [
        {
          "output_type": "stream",
          "text": [
            "raza\n"
          ],
          "name": "stdout"
        }
      ]
    },
    {
      "cell_type": "code",
      "metadata": {
        "id": "oF4XV_gfB6Iw"
      },
      "source": [
        "import tensorflow as tf\n",
        "import pandas as pd\n",
        "import numpy as np\n",
        "from tensorflow.keras.models import Sequential\n",
        "from tensorflow.keras.layers import Conv2D,MaxPooling2D,Dense,Flatten,Dropout\n",
        "import matplotlib.pyplot as plt\n",
        "\n",
        "from tensorflow import keras\n",
        "layers = keras.layers\n",
        "models = keras.models\n"
      ],
      "execution_count": null,
      "outputs": []
    },
    {
      "cell_type": "code",
      "metadata": {
        "id": "1oILIOaRCuRS"
      },
      "source": [
        "fashion_train=pd.read_csv('fashion-mnist_train.csv')\n",
        "fashion_test=pd.read_csv('fashion-mnist_test.csv')\n"
      ],
      "execution_count": null,
      "outputs": []
    },
    {
      "cell_type": "code",
      "metadata": {
        "id": "zLbnlRFiTTh-",
        "colab": {
          "base_uri": "https://localhost:8080/",
          "height": 230
        },
        "outputId": "fd59035d-1187-461a-9fb3-972d11862508"
      },
      "source": [
        "train_image=fashion_train.iloc[:,1:]\n",
        "train_lable=fashion_train.iloc[:,0]\n",
        "test_image=fashion_test.iloc[:,1:]\n",
        "test_lable=fashion_test.iloc[:,0]\n",
        "test_lable"
      ],
      "execution_count": null,
      "outputs": [
        {
          "output_type": "execute_result",
          "data": {
            "text/plain": [
              "0       0\n",
              "1       1\n",
              "2       2\n",
              "3       2\n",
              "4       3\n",
              "       ..\n",
              "9995    0\n",
              "9996    6\n",
              "9997    8\n",
              "9998    8\n",
              "9999    1\n",
              "Name: label, Length: 10000, dtype: int64"
            ]
          },
          "metadata": {
            "tags": []
          },
          "execution_count": 7
        }
      ]
    },
    {
      "cell_type": "code",
      "metadata": {
        "id": "2Kk5ZxHML-Wn"
      },
      "source": [
        "#train_image.astype(np.int8)\n",
        "#train_lable.astype(np.int8)\n",
        "#test_image.astype(np.int8)\n",
        "#test_lable.astype(np.int8)"
      ],
      "execution_count": null,
      "outputs": []
    },
    {
      "cell_type": "code",
      "metadata": {
        "id": "GmnaV_dMTT6X"
      },
      "source": [
        "img_row=28\n",
        "img_col=28\n",
        "input_shape=(img_row,img_col,1)\n",
        "\n",
        "train_image=train_image.values.reshape(train_image.shape[0], img_row , img_col,1)\n",
        "train_image=train_image.astype('float32')\n",
        "train_image/=255\n",
        "\n",
        "test_image=test_image.values.reshape(test_image.shape[0],img_row , img_col ,1)\n",
        "test_image=test_image.astype('float32')\n",
        "test_image/=255\n"
      ],
      "execution_count": null,
      "outputs": []
    },
    {
      "cell_type": "code",
      "metadata": {
        "id": "1jgERa87DAFt",
        "colab": {
          "base_uri": "https://localhost:8080/",
          "height": 798
        },
        "outputId": "c435ac82-2076-4c98-bf52-9ece4356b226"
      },
      "source": [
        "# CNN Model\n",
        "model=models.Sequential()\n",
        "model.add(Conv2D(64,(3,3), activation='relu',input_shape=(input_shape)))\n",
        "model.add(MaxPooling2D((2,2)))\n",
        "\n",
        "model.add(Conv2D(32,(3,3),activation='relu'))\n",
        "model.add(MaxPooling2D(2,2))\n",
        "\n",
        "model.add(Flatten(input_shape=(28, 28)))\n",
        "\n",
        "model.add(layers.Dense(128,activation='relu'))\n",
        "model.add(Dropout(0.5))\n",
        "model.add(layers.Dense(10,activation='softmax'))\n",
        "\n",
        "model.compile(loss='sparse_categorical_crossentropy',\n",
        "              optimizer='adam',\n",
        "              metrics=['acc'])\n",
        "history= model.fit(train_image,train_lable,epochs=22,batch_size=150,validation_split=0.1)\n",
        "y_score = model.predict_proba(test_image)"
      ],
      "execution_count": null,
      "outputs": [
        {
          "output_type": "stream",
          "text": [
            "Epoch 1/22\n",
            "360/360 [==============================] - 2s 4ms/step - loss: 0.7071 - acc: 0.7431 - val_loss: 0.4410 - val_acc: 0.8363\n",
            "Epoch 2/22\n",
            "360/360 [==============================] - 1s 4ms/step - loss: 0.4510 - acc: 0.8378 - val_loss: 0.3741 - val_acc: 0.8655\n",
            "Epoch 3/22\n",
            "360/360 [==============================] - 1s 4ms/step - loss: 0.3930 - acc: 0.8589 - val_loss: 0.3400 - val_acc: 0.8817\n",
            "Epoch 4/22\n",
            "360/360 [==============================] - 1s 4ms/step - loss: 0.3617 - acc: 0.8696 - val_loss: 0.3105 - val_acc: 0.8885\n",
            "Epoch 5/22\n",
            "360/360 [==============================] - 1s 4ms/step - loss: 0.3419 - acc: 0.8782 - val_loss: 0.3036 - val_acc: 0.8878\n",
            "Epoch 6/22\n",
            "360/360 [==============================] - 1s 4ms/step - loss: 0.3243 - acc: 0.8833 - val_loss: 0.2874 - val_acc: 0.8985\n",
            "Epoch 7/22\n",
            "360/360 [==============================] - 1s 4ms/step - loss: 0.3079 - acc: 0.8894 - val_loss: 0.2862 - val_acc: 0.9013\n",
            "Epoch 8/22\n",
            "360/360 [==============================] - 1s 4ms/step - loss: 0.2958 - acc: 0.8921 - val_loss: 0.2777 - val_acc: 0.9010\n",
            "Epoch 9/22\n",
            "360/360 [==============================] - 1s 4ms/step - loss: 0.2856 - acc: 0.8964 - val_loss: 0.2686 - val_acc: 0.9030\n",
            "Epoch 10/22\n",
            "360/360 [==============================] - 1s 4ms/step - loss: 0.2729 - acc: 0.9006 - val_loss: 0.2584 - val_acc: 0.9078\n",
            "Epoch 11/22\n",
            "360/360 [==============================] - 1s 4ms/step - loss: 0.2638 - acc: 0.9035 - val_loss: 0.2577 - val_acc: 0.9092\n",
            "Epoch 12/22\n",
            "360/360 [==============================] - 1s 4ms/step - loss: 0.2553 - acc: 0.9061 - val_loss: 0.2515 - val_acc: 0.9123\n",
            "Epoch 13/22\n",
            "360/360 [==============================] - 1s 4ms/step - loss: 0.2486 - acc: 0.9083 - val_loss: 0.2498 - val_acc: 0.9115\n",
            "Epoch 14/22\n",
            "360/360 [==============================] - 1s 4ms/step - loss: 0.2395 - acc: 0.9120 - val_loss: 0.2483 - val_acc: 0.9067\n",
            "Epoch 15/22\n",
            "360/360 [==============================] - 1s 4ms/step - loss: 0.2294 - acc: 0.9152 - val_loss: 0.2446 - val_acc: 0.9147\n",
            "Epoch 16/22\n",
            "360/360 [==============================] - 1s 4ms/step - loss: 0.2245 - acc: 0.9160 - val_loss: 0.2528 - val_acc: 0.9095\n",
            "Epoch 17/22\n",
            "360/360 [==============================] - 1s 4ms/step - loss: 0.2169 - acc: 0.9195 - val_loss: 0.2416 - val_acc: 0.9142\n",
            "Epoch 18/22\n",
            "360/360 [==============================] - 1s 4ms/step - loss: 0.2116 - acc: 0.9209 - val_loss: 0.2392 - val_acc: 0.9190\n",
            "Epoch 19/22\n",
            "360/360 [==============================] - 1s 4ms/step - loss: 0.2070 - acc: 0.9229 - val_loss: 0.2601 - val_acc: 0.9043\n",
            "Epoch 20/22\n",
            "360/360 [==============================] - 1s 4ms/step - loss: 0.2028 - acc: 0.9236 - val_loss: 0.2399 - val_acc: 0.9167\n",
            "Epoch 21/22\n",
            "360/360 [==============================] - 1s 4ms/step - loss: 0.1964 - acc: 0.9266 - val_loss: 0.2362 - val_acc: 0.9203\n",
            "Epoch 22/22\n",
            "360/360 [==============================] - 1s 4ms/step - loss: 0.1896 - acc: 0.9281 - val_loss: 0.2411 - val_acc: 0.9192\n"
          ],
          "name": "stdout"
        }
      ]
    },
    {
      "cell_type": "code",
      "metadata": {
        "id": "8gR4opHzm2KO",
        "colab": {
          "base_uri": "https://localhost:8080/",
          "height": 52
        },
        "outputId": "093e3e77-7b9e-464c-841b-186a81f588fe"
      },
      "source": [
        "model.evaluate(test_image,test_lable,\\\n",
        "               batch_size=150,verbose=2)\n"
      ],
      "execution_count": null,
      "outputs": [
        {
          "output_type": "stream",
          "text": [
            "67/67 - 0s - loss: 0.2264 - acc: 0.9182\n"
          ],
          "name": "stdout"
        },
        {
          "output_type": "execute_result",
          "data": {
            "text/plain": [
              "[0.22642451524734497, 0.9182000160217285]"
            ]
          },
          "metadata": {
            "tags": []
          },
          "execution_count": 11
        }
      ]
    },
    {
      "cell_type": "code",
      "metadata": {
        "id": "0EwYNp9Is9tq",
        "colab": {
          "base_uri": "https://localhost:8080/",
          "height": 294
        },
        "outputId": "1a8e630c-9b42-42e7-c52f-3e099316adc9"
      },
      "source": [
        "# Summarize the history of accuracy\n",
        "plt.plot(history.history['acc'])\n",
        "plt.plot(history.history['val_acc'])\n",
        "plt.title('model_accuracy')\n",
        "plt.ylabel('accuracy')\n",
        "plt.xlabel('epochs')\n",
        "plt.legend(['train' , 'test'], loc='upper left')\n",
        "plt.show()"
      ],
      "execution_count": null,
      "outputs": [
        {
          "output_type": "display_data",
          "data": {
            "image/png": "[encoded data removed]",
            "text/plain": [
              "<Figure size 432x288 with 1 Axes>"
            ]
          },
          "metadata": {
            "tags": []
          }
        }
      ]
    },
    {
      "cell_type": "code",
      "metadata": {
        "id": "I9emy6zPvezZ",
        "colab": {
          "base_uri": "https://localhost:8080/",
          "height": 294
        },
        "outputId": "da4de19e-0ac6-447f-8cdd-193c85b89f80"
      },
      "source": [
        "#summary the history for Loss\n",
        "plt.plot(history.history['loss'])\n",
        "plt.plot(history.history['val_loss'])\n",
        "plt.title('Model_Loss')\n",
        "plt.ylabel('loss')\n",
        "plt.xlabel('epochs')\n",
        "plt.legend(['train' , 'test'], loc='upper left')\n",
        "plt.show()"
      ],
      "execution_count": null,
      "outputs": [
        {
          "output_type": "display_data",
          "data": {
            "image/png": "[encoded data removed]",
            "text/plain": [
              "<Figure size 432x288 with 1 Axes>"
            ]
          },
          "metadata": {
            "tags": []
          }
        }
      ]
    },
    {
      "cell_type": "code",
      "metadata": {
        "id": "3H9Xbr1rnFkO",
        "colab": {
          "base_uri": "https://localhost:8080/",
          "height": 230
        },
        "outputId": "f76716ca-4d2b-446e-fdfa-735897fcca1b"
      },
      "source": [
        "print('Id \\t prediction \\t Actual Lable \\n')\n",
        "for i in range(10):\n",
        "  prediction=model.predict(np.array([test_image[i]]))\n",
        "  predicted_label = test_lable[np.argmax(prediction)]\n",
        "  actual_lable=test_lable[i]\n",
        "  print(i,\"\\t\", predicted_label,'\\t', actual_lable)\n",
        "  "
      ],
      "execution_count": null,
      "outputs": [
        {
          "output_type": "stream",
          "text": [
            "Id \t prediction \t Actual Lable \n",
            "\n",
            "0 \t 0 \t 0\n",
            "1 \t 1 \t 1\n",
            "2 \t 2 \t 2\n",
            "3 \t 8 \t 2\n",
            "4 \t 2 \t 3\n",
            "5 \t 8 \t 2\n",
            "6 \t 5 \t 8\n",
            "7 \t 8 \t 6\n",
            "8 \t 2 \t 5\n",
            "9 \t 0 \t 0\n"
          ],
          "name": "stdout"
        }
      ]
    },
    {
      "cell_type": "code",
      "metadata": {
        "id": "LpR5wtUjYYe1"
      },
      "source": [
        "\n",
        "from tensorflow .keras.wrappers.scikit_learn import KerasClassifier\n",
        "from sklearn.model_selection import cross_val_score"
      ],
      "execution_count": null,
      "outputs": []
    },
    {
      "cell_type": "code",
      "metadata": {
        "id": "tvEwQkBbOLPO",
        "colab": {
          "base_uri": "https://localhost:8080/",
          "height": 52
        },
        "outputId": "c38acfc0-c786-4c68-e09a-9dffaa9f6edf"
      },
      "source": [
        "def build_model():\n",
        "  model=models.Sequential()\n",
        "  model.add(Conv2D(64,(3,3), activation='relu',input_shape=(input_shape)))\n",
        "  model.add(MaxPooling2D((2,2)))\n",
        "\n",
        "  model.add(Conv2D(32,(3,3),activation='relu'))\n",
        "  model.add(MaxPooling2D(2,2))\n",
        "\n",
        "  model.add(Flatten(input_shape=(28, 28)))\n",
        "\n",
        "  model.add(layers.Dense(128,activation='relu'))\n",
        "  model.add(Dropout(0.5))\n",
        "  model.add(layers.Dense(10,activation='softmax'))\n",
        "\n",
        "  model.compile(loss='sparse_categorical_crossentropy',\n",
        "                optimizer='adam',\n",
        "                metrics=['acc'])\n",
        "  return model\n",
        "\n",
        "classifier=KerasClassifier(build_fn=build_model,batch_size=150,epochs=20)\n",
        "accuracy=cross_val_score(estimator=classifier, X=train_image,y=train_lable,cv=10,n_jobs=-1)\n"
      ],
      "execution_count": null,
      "outputs": [
        {
          "output_type": "stream",
          "text": [
            "/usr/local/lib/python3.6/dist-packages/joblib/externals/loky/process_executor.py:706: UserWarning: A worker stopped while some jobs were given to the executor. This can be caused by a too short worker timeout or by a memory leak.\n",
            "  \"timeout or by a memory leak.\", UserWarning\n"
          ],
          "name": "stderr"
        }
      ]
    },
    {
      "cell_type": "code",
      "metadata": {
        "id": "UhGTZQafqoKC",
        "colab": {
          "base_uri": "https://localhost:8080/",
          "height": 34
        },
        "outputId": "356fcc0d-89fb-43d6-cb7c-d2cabce55777"
      },
      "source": [
        "accuracy.mean()"
      ],
      "execution_count": null,
      "outputs": [
        {
          "output_type": "execute_result",
          "data": {
            "text/plain": [
              "0.9132166683673859"
            ]
          },
          "metadata": {
            "tags": []
          },
          "execution_count": 18
        }
      ]
    },
    {
      "cell_type": "code",
      "metadata": {
        "id": "9zDzNFejCqvf",
        "colab": {
          "base_uri": "https://localhost:8080/",
          "height": 1000
        },
        "outputId": "af1852ff-74a4-48a1-cb40-258ad42a6e2f"
      },
      "source": [
        "from sklearn.model_selection import cross_val_predict\n",
        "def build_model():\n",
        "  model=models.Sequential()\n",
        "  model.add(Conv2D(64,(3,3), activation='relu',input_shape=(input_shape)))\n",
        "  model.add(MaxPooling2D((2,2)))\n",
        "\n",
        "  model.add(Conv2D(32,(3,3),activation='relu'))\n",
        "  model.add(MaxPooling2D(2,2))\n",
        "\n",
        "  model.add(Flatten(input_shape=(28, 28)))\n",
        "\n",
        "  model.add(layers.Dense(128,activation='relu'))\n",
        "  model.add(Dropout(0.5))\n",
        "  model.add(layers.Dense(10,activation='softmax'))\n",
        "\n",
        "  model.compile(loss='sparse_categorical_crossentropy',\n",
        "                optimizer='adam',\n",
        "                metrics=['acc'])\n",
        "  return model\n",
        "\n",
        "classifier=KerasClassifier(build_fn=build_model,batch_size=32,epochs=15)\n",
        "accuracy=cross_val_predict(estimator=classifier, X=train_image,y=train_lable,cv=10)\n"
      ],
      "execution_count": null,
      "outputs": [
        {
          "output_type": "stream",
          "text": [
            "Epoch 1/15\n",
            "1688/1688 [==============================] - 4s 3ms/step - loss: 0.6003 - acc: 0.7816\n",
            "Epoch 2/15\n",
            "1688/1688 [==============================] - 4s 3ms/step - loss: 0.3981 - acc: 0.8569\n",
            "Epoch 3/15\n",
            "1688/1688 [==============================] - 4s 3ms/step - loss: 0.3511 - acc: 0.8731\n",
            "Epoch 4/15\n",
            "1688/1688 [==============================] - 4s 3ms/step - loss: 0.3168 - acc: 0.8846\n",
            "Epoch 5/15\n",
            "1688/1688 [==============================] - 4s 3ms/step - loss: 0.2950 - acc: 0.8920\n",
            "Epoch 6/15\n",
            "1688/1688 [==============================] - 4s 3ms/step - loss: 0.2747 - acc: 0.8989\n",
            "Epoch 7/15\n",
            "1688/1688 [==============================] - 4s 3ms/step - loss: 0.2612 - acc: 0.9029\n",
            "Epoch 8/15\n",
            "1688/1688 [==============================] - 4s 3ms/step - loss: 0.2492 - acc: 0.9081\n",
            "Epoch 9/15\n",
            "1688/1688 [==============================] - 4s 3ms/step - loss: 0.2360 - acc: 0.9124\n",
            "Epoch 10/15\n",
            "1688/1688 [==============================] - 4s 3ms/step - loss: 0.2279 - acc: 0.9143\n",
            "Epoch 11/15\n",
            "1688/1688 [==============================] - 4s 3ms/step - loss: 0.2193 - acc: 0.9170\n",
            "Epoch 12/15\n",
            "1688/1688 [==============================] - 4s 3ms/step - loss: 0.2124 - acc: 0.9206\n",
            "Epoch 13/15\n",
            "1688/1688 [==============================] - 4s 3ms/step - loss: 0.2057 - acc: 0.9221\n",
            "Epoch 14/15\n",
            "1688/1688 [==============================] - 4s 3ms/step - loss: 0.1949 - acc: 0.9260\n",
            "Epoch 15/15\n",
            "1688/1688 [==============================] - 4s 3ms/step - loss: 0.1911 - acc: 0.9274\n",
            "WARNING:tensorflow:From /usr/local/lib/python3.6/dist-packages/tensorflow/python/keras/wrappers/scikit_learn.py:241: Sequential.predict_classes (from tensorflow.python.keras.engine.sequential) is deprecated and will be removed after 2021-01-01.\n",
            "Instructions for updating:\n",
            "Please use instead:* `np.argmax(model.predict(x), axis=-1)`,   if your model does multi-class classification   (e.g. if it uses a `softmax` last-layer activation).* `(model.predict(x) > 0.5).astype(\"int32\")`,   if your model does binary classification   (e.g. if it uses a `sigmoid` last-layer activation).\n",
            "Epoch 1/15\n",
            "1688/1688 [==============================] - 4s 3ms/step - loss: 0.5874 - acc: 0.7890\n",
            "Epoch 2/15\n",
            "1688/1688 [==============================] - 4s 3ms/step - loss: 0.3996 - acc: 0.8567\n",
            "Epoch 3/15\n",
            "1688/1688 [==============================] - 4s 3ms/step - loss: 0.3501 - acc: 0.8731\n",
            "Epoch 4/15\n",
            "1688/1688 [==============================] - 4s 3ms/step - loss: 0.3176 - acc: 0.8851\n",
            "Epoch 5/15\n",
            "1688/1688 [==============================] - 4s 3ms/step - loss: 0.2939 - acc: 0.8925\n",
            "Epoch 6/15\n",
            "1688/1688 [==============================] - 4s 3ms/step - loss: 0.2778 - acc: 0.8994\n",
            "Epoch 7/15\n",
            "1688/1688 [==============================] - 4s 3ms/step - loss: 0.2602 - acc: 0.9057\n",
            "Epoch 8/15\n",
            "1688/1688 [==============================] - 4s 3ms/step - loss: 0.2514 - acc: 0.9078\n",
            "Epoch 9/15\n",
            "1688/1688 [==============================] - 4s 3ms/step - loss: 0.2390 - acc: 0.9117\n",
            "Epoch 10/15\n",
            "1688/1688 [==============================] - 4s 3ms/step - loss: 0.2298 - acc: 0.9152\n",
            "Epoch 11/15\n",
            "1688/1688 [==============================] - 4s 3ms/step - loss: 0.2235 - acc: 0.9175\n",
            "Epoch 12/15\n",
            "1688/1688 [==============================] - 4s 3ms/step - loss: 0.2123 - acc: 0.9213\n",
            "Epoch 13/15\n",
            "1688/1688 [==============================] - 4s 3ms/step - loss: 0.2065 - acc: 0.9239\n",
            "Epoch 14/15\n",
            "1688/1688 [==============================] - 4s 3ms/step - loss: 0.1995 - acc: 0.9251\n",
            "Epoch 15/15\n",
            "1688/1688 [==============================] - 4s 3ms/step - loss: 0.1922 - acc: 0.9273\n",
            "Epoch 1/15\n",
            "1688/1688 [==============================] - 4s 3ms/step - loss: 0.5813 - acc: 0.7906\n",
            "Epoch 2/15\n",
            "1688/1688 [==============================] - 4s 3ms/step - loss: 0.3933 - acc: 0.8583\n",
            "Epoch 3/15\n",
            "1688/1688 [==============================] - 4s 3ms/step - loss: 0.3439 - acc: 0.8743\n",
            "Epoch 4/15\n",
            "1688/1688 [==============================] - 4s 3ms/step - loss: 0.3139 - acc: 0.8869\n",
            "Epoch 5/15\n",
            "1688/1688 [==============================] - 4s 3ms/step - loss: 0.2909 - acc: 0.8938\n",
            "Epoch 6/15\n",
            "1688/1688 [==============================] - 4s 3ms/step - loss: 0.2710 - acc: 0.9010\n",
            "Epoch 7/15\n",
            "1688/1688 [==============================] - 4s 3ms/step - loss: 0.2565 - acc: 0.9059\n",
            "Epoch 8/15\n",
            "1688/1688 [==============================] - 4s 3ms/step - loss: 0.2454 - acc: 0.9093\n",
            "Epoch 9/15\n",
            "1688/1688 [==============================] - 4s 3ms/step - loss: 0.2337 - acc: 0.9133\n",
            "Epoch 10/15\n",
            "1688/1688 [==============================] - 4s 3ms/step - loss: 0.2247 - acc: 0.9172\n",
            "Epoch 11/15\n",
            "1688/1688 [==============================] - 4s 3ms/step - loss: 0.2169 - acc: 0.9200\n",
            "Epoch 12/15\n",
            "1688/1688 [==============================] - 4s 3ms/step - loss: 0.2063 - acc: 0.9242\n",
            "Epoch 13/15\n",
            "1688/1688 [==============================] - 4s 3ms/step - loss: 0.2026 - acc: 0.9248\n",
            "Epoch 14/15\n",
            "1688/1688 [==============================] - 4s 3ms/step - loss: 0.1940 - acc: 0.9268\n",
            "Epoch 15/15\n",
            "1688/1688 [==============================] - 4s 3ms/step - loss: 0.1890 - acc: 0.9286\n",
            "Epoch 1/15\n",
            "1688/1688 [==============================] - 4s 3ms/step - loss: 0.5943 - acc: 0.7842\n",
            "Epoch 2/15\n",
            "1688/1688 [==============================] - 4s 3ms/step - loss: 0.4071 - acc: 0.8534\n",
            "Epoch 3/15\n",
            "1688/1688 [==============================] - 4s 3ms/step - loss: 0.3537 - acc: 0.8728\n",
            "Epoch 4/15\n",
            "1688/1688 [==============================] - 4s 3ms/step - loss: 0.3216 - acc: 0.8841\n",
            "Epoch 5/15\n",
            "1688/1688 [==============================] - 4s 3ms/step - loss: 0.2990 - acc: 0.8902\n",
            "Epoch 6/15\n",
            "1688/1688 [==============================] - 4s 3ms/step - loss: 0.2841 - acc: 0.8984\n",
            "Epoch 7/15\n",
            "1688/1688 [==============================] - 4s 3ms/step - loss: 0.2660 - acc: 0.9029\n",
            "Epoch 8/15\n",
            "1688/1688 [==============================] - 4s 3ms/step - loss: 0.2557 - acc: 0.9059\n",
            "Epoch 9/15\n",
            "1688/1688 [==============================] - 5s 3ms/step - loss: 0.2455 - acc: 0.9081\n",
            "Epoch 10/15\n",
            "1688/1688 [==============================] - 5s 3ms/step - loss: 0.2332 - acc: 0.9137\n",
            "Epoch 11/15\n",
            "1688/1688 [==============================] - 5s 3ms/step - loss: 0.2268 - acc: 0.9159\n",
            "Epoch 12/15\n",
            "1688/1688 [==============================] - 5s 3ms/step - loss: 0.2205 - acc: 0.9180\n",
            "Epoch 13/15\n",
            "1688/1688 [==============================] - 4s 3ms/step - loss: 0.2107 - acc: 0.9209\n",
            "Epoch 14/15\n",
            "1688/1688 [==============================] - 4s 3ms/step - loss: 0.2051 - acc: 0.9239\n",
            "Epoch 15/15\n",
            "1688/1688 [==============================] - 4s 3ms/step - loss: 0.1969 - acc: 0.9252\n",
            "Epoch 1/15\n",
            "1688/1688 [==============================] - 4s 3ms/step - loss: 0.6047 - acc: 0.7816\n",
            "Epoch 2/15\n",
            "1688/1688 [==============================] - 4s 3ms/step - loss: 0.4054 - acc: 0.8553\n",
            "Epoch 3/15\n",
            "1688/1688 [==============================] - 4s 3ms/step - loss: 0.3570 - acc: 0.8711\n",
            "Epoch 4/15\n",
            "1688/1688 [==============================] - 4s 3ms/step - loss: 0.3265 - acc: 0.8823\n",
            "Epoch 5/15\n",
            "1688/1688 [==============================] - 4s 3ms/step - loss: 0.3030 - acc: 0.8894\n",
            "Epoch 6/15\n",
            "1688/1688 [==============================] - 4s 3ms/step - loss: 0.2851 - acc: 0.8966\n",
            "Epoch 7/15\n",
            "1688/1688 [==============================] - 4s 3ms/step - loss: 0.2717 - acc: 0.9014\n",
            "Epoch 8/15\n",
            "1688/1688 [==============================] - 4s 3ms/step - loss: 0.2547 - acc: 0.9060\n",
            "Epoch 9/15\n",
            "1688/1688 [==============================] - 4s 3ms/step - loss: 0.2460 - acc: 0.9098\n",
            "Epoch 10/15\n",
            "1688/1688 [==============================] - 4s 3ms/step - loss: 0.2353 - acc: 0.9134\n",
            "Epoch 11/15\n",
            "1688/1688 [==============================] - 4s 3ms/step - loss: 0.2270 - acc: 0.9154\n",
            "Epoch 12/15\n",
            "1688/1688 [==============================] - 4s 3ms/step - loss: 0.2211 - acc: 0.9191\n",
            "Epoch 13/15\n",
            "1688/1688 [==============================] - 5s 3ms/step - loss: 0.2106 - acc: 0.9214\n",
            "Epoch 14/15\n",
            "1688/1688 [==============================] - 4s 3ms/step - loss: 0.2020 - acc: 0.9232\n",
            "Epoch 15/15\n",
            "1688/1688 [==============================] - 4s 3ms/step - loss: 0.1974 - acc: 0.9262\n",
            "Epoch 1/15\n",
            "1688/1688 [==============================] - 4s 3ms/step - loss: 0.5878 - acc: 0.7871\n",
            "Epoch 2/15\n",
            "1688/1688 [==============================] - 4s 3ms/step - loss: 0.3977 - acc: 0.8572\n",
            "Epoch 3/15\n",
            "1688/1688 [==============================] - 4s 3ms/step - loss: 0.3442 - acc: 0.8755\n",
            "Epoch 4/15\n",
            "1688/1688 [==============================] - 4s 3ms/step - loss: 0.3165 - acc: 0.8859\n",
            "Epoch 5/15\n",
            "1688/1688 [==============================] - 4s 3ms/step - loss: 0.2912 - acc: 0.8942\n",
            "Epoch 6/15\n",
            "1688/1688 [==============================] - 4s 3ms/step - loss: 0.2752 - acc: 0.8993\n",
            "Epoch 7/15\n",
            "1688/1688 [==============================] - 4s 3ms/step - loss: 0.2618 - acc: 0.9034\n",
            "Epoch 8/15\n",
            "1688/1688 [==============================] - 4s 3ms/step - loss: 0.2460 - acc: 0.9095\n",
            "Epoch 9/15\n",
            "1688/1688 [==============================] - 4s 3ms/step - loss: 0.2399 - acc: 0.9120\n",
            "Epoch 10/15\n",
            "1688/1688 [==============================] - 4s 3ms/step - loss: 0.2261 - acc: 0.9179\n",
            "Epoch 11/15\n",
            "1688/1688 [==============================] - 4s 3ms/step - loss: 0.2175 - acc: 0.9191\n",
            "Epoch 12/15\n",
            "1688/1688 [==============================] - 4s 3ms/step - loss: 0.2081 - acc: 0.9226\n",
            "Epoch 13/15\n",
            "1688/1688 [==============================] - 4s 3ms/step - loss: 0.1992 - acc: 0.9251\n",
            "Epoch 14/15\n",
            "1688/1688 [==============================] - 4s 3ms/step - loss: 0.1940 - acc: 0.9266\n",
            "Epoch 15/15\n",
            "1688/1688 [==============================] - 4s 3ms/step - loss: 0.1885 - acc: 0.9290\n",
            "Epoch 1/15\n",
            "1688/1688 [==============================] - 4s 3ms/step - loss: 0.5720 - acc: 0.7917\n",
            "Epoch 2/15\n",
            "1688/1688 [==============================] - 4s 3ms/step - loss: 0.3859 - acc: 0.8628\n",
            "Epoch 3/15\n",
            "1688/1688 [==============================] - 4s 3ms/step - loss: 0.3415 - acc: 0.8767\n",
            "Epoch 4/15\n",
            "1688/1688 [==============================] - 4s 3ms/step - loss: 0.3103 - acc: 0.8883\n",
            "Epoch 5/15\n",
            "1688/1688 [==============================] - 4s 3ms/step - loss: 0.2892 - acc: 0.8955\n",
            "Epoch 6/15\n",
            "1688/1688 [==============================] - 4s 3ms/step - loss: 0.2732 - acc: 0.9001\n",
            "Epoch 7/15\n",
            "1688/1688 [==============================] - 4s 3ms/step - loss: 0.2581 - acc: 0.9056\n",
            "Epoch 8/15\n",
            "1688/1688 [==============================] - 4s 3ms/step - loss: 0.2482 - acc: 0.9086\n",
            "Epoch 9/15\n",
            "1688/1688 [==============================] - 4s 3ms/step - loss: 0.2363 - acc: 0.9126\n",
            "Epoch 10/15\n",
            "1688/1688 [==============================] - 4s 3ms/step - loss: 0.2270 - acc: 0.9166\n",
            "Epoch 11/15\n",
            "1688/1688 [==============================] - 4s 3ms/step - loss: 0.2167 - acc: 0.9188\n",
            "Epoch 12/15\n",
            "1688/1688 [==============================] - 4s 3ms/step - loss: 0.2064 - acc: 0.9221\n",
            "Epoch 13/15\n",
            "1688/1688 [==============================] - 4s 3ms/step - loss: 0.2040 - acc: 0.9232\n",
            "Epoch 14/15\n",
            "1688/1688 [==============================] - 4s 3ms/step - loss: 0.1961 - acc: 0.9263\n",
            "Epoch 15/15\n",
            "1688/1688 [==============================] - 4s 3ms/step - loss: 0.1910 - acc: 0.9277\n",
            "Epoch 1/15\n",
            "1688/1688 [==============================] - 4s 3ms/step - loss: 0.5668 - acc: 0.7919\n",
            "Epoch 2/15\n",
            "1688/1688 [==============================] - 4s 3ms/step - loss: 0.3908 - acc: 0.8593\n",
            "Epoch 3/15\n",
            "1688/1688 [==============================] - 5s 3ms/step - loss: 0.3435 - acc: 0.8757\n",
            "Epoch 4/15\n",
            "1688/1688 [==============================] - 5s 3ms/step - loss: 0.3138 - acc: 0.8852\n",
            "Epoch 5/15\n",
            "1688/1688 [==============================] - 4s 3ms/step - loss: 0.2951 - acc: 0.8928\n",
            "Epoch 6/15\n",
            "1688/1688 [==============================] - 4s 3ms/step - loss: 0.2762 - acc: 0.8977\n",
            "Epoch 7/15\n",
            "1688/1688 [==============================] - 4s 3ms/step - loss: 0.2625 - acc: 0.9031\n",
            "Epoch 8/15\n",
            "1688/1688 [==============================] - 4s 3ms/step - loss: 0.2501 - acc: 0.9078\n",
            "Epoch 9/15\n",
            "1688/1688 [==============================] - 4s 3ms/step - loss: 0.2380 - acc: 0.9115\n",
            "Epoch 10/15\n",
            "1688/1688 [==============================] - 4s 3ms/step - loss: 0.2281 - acc: 0.9158\n",
            "Epoch 11/15\n",
            "1688/1688 [==============================] - 4s 3ms/step - loss: 0.2208 - acc: 0.9173\n",
            "Epoch 12/15\n",
            "1688/1688 [==============================] - 4s 3ms/step - loss: 0.2153 - acc: 0.9202\n",
            "Epoch 13/15\n",
            "1688/1688 [==============================] - 4s 3ms/step - loss: 0.2046 - acc: 0.9229\n",
            "Epoch 14/15\n",
            "1688/1688 [==============================] - 4s 3ms/step - loss: 0.2004 - acc: 0.9243\n",
            "Epoch 15/15\n",
            "1688/1688 [==============================] - 4s 3ms/step - loss: 0.1917 - acc: 0.9266\n",
            "Epoch 1/15\n",
            "1688/1688 [==============================] - 4s 3ms/step - loss: 0.5819 - acc: 0.7880\n",
            "Epoch 2/15\n",
            "1688/1688 [==============================] - 5s 3ms/step - loss: 0.3985 - acc: 0.8565\n",
            "Epoch 3/15\n",
            "1688/1688 [==============================] - 5s 3ms/step - loss: 0.3507 - acc: 0.8742\n",
            "Epoch 4/15\n",
            "1688/1688 [==============================] - 5s 3ms/step - loss: 0.3154 - acc: 0.8847\n",
            "Epoch 5/15\n",
            "1688/1688 [==============================] - 5s 3ms/step - loss: 0.2947 - acc: 0.8918\n",
            "Epoch 6/15\n",
            "1688/1688 [==============================] - 5s 3ms/step - loss: 0.2789 - acc: 0.8983\n",
            "Epoch 7/15\n",
            "1688/1688 [==============================] - 5s 3ms/step - loss: 0.2614 - acc: 0.9052\n",
            "Epoch 8/15\n",
            "1688/1688 [==============================] - 4s 3ms/step - loss: 0.2497 - acc: 0.9084\n",
            "Epoch 9/15\n",
            "1688/1688 [==============================] - 4s 3ms/step - loss: 0.2377 - acc: 0.9118\n",
            "Epoch 10/15\n",
            "1688/1688 [==============================] - 4s 3ms/step - loss: 0.2325 - acc: 0.9132\n",
            "Epoch 11/15\n",
            "1688/1688 [==============================] - 4s 3ms/step - loss: 0.2191 - acc: 0.9185\n",
            "Epoch 12/15\n",
            "1688/1688 [==============================] - 4s 3ms/step - loss: 0.2135 - acc: 0.9202\n",
            "Epoch 13/15\n",
            "1688/1688 [==============================] - 4s 3ms/step - loss: 0.2048 - acc: 0.9225\n",
            "Epoch 14/15\n",
            "1688/1688 [==============================] - 4s 3ms/step - loss: 0.1969 - acc: 0.9254\n",
            "Epoch 15/15\n",
            "1688/1688 [==============================] - 4s 3ms/step - loss: 0.1945 - acc: 0.9264\n",
            "Epoch 1/15\n",
            "1688/1688 [==============================] - 4s 3ms/step - loss: 0.5917 - acc: 0.7839\n",
            "Epoch 2/15\n",
            "1688/1688 [==============================] - 4s 3ms/step - loss: 0.4041 - acc: 0.8534\n",
            "Epoch 3/15\n",
            "1688/1688 [==============================] - 4s 3ms/step - loss: 0.3497 - acc: 0.8731\n",
            "Epoch 4/15\n",
            "1688/1688 [==============================] - 4s 3ms/step - loss: 0.3176 - acc: 0.8863\n",
            "Epoch 5/15\n",
            "1688/1688 [==============================] - 4s 3ms/step - loss: 0.2935 - acc: 0.8928\n",
            "Epoch 6/15\n",
            "1688/1688 [==============================] - 4s 3ms/step - loss: 0.2766 - acc: 0.8993\n",
            "Epoch 7/15\n",
            "1688/1688 [==============================] - 4s 3ms/step - loss: 0.2616 - acc: 0.9038\n",
            "Epoch 8/15\n",
            "1688/1688 [==============================] - 4s 3ms/step - loss: 0.2495 - acc: 0.9088\n",
            "Epoch 9/15\n",
            "1688/1688 [==============================] - 4s 3ms/step - loss: 0.2381 - acc: 0.9108\n",
            "Epoch 10/15\n",
            "1688/1688 [==============================] - 5s 3ms/step - loss: 0.2262 - acc: 0.9167\n",
            "Epoch 11/15\n",
            "1688/1688 [==============================] - 4s 3ms/step - loss: 0.2180 - acc: 0.9186\n",
            "Epoch 12/15\n",
            "1688/1688 [==============================] - 4s 3ms/step - loss: 0.2137 - acc: 0.9200\n",
            "Epoch 13/15\n",
            "1688/1688 [==============================] - 4s 3ms/step - loss: 0.2044 - acc: 0.9225\n",
            "Epoch 14/15\n",
            "1688/1688 [==============================] - 4s 3ms/step - loss: 0.1967 - acc: 0.9270\n",
            "Epoch 15/15\n",
            "1688/1688 [==============================] - 4s 3ms/step - loss: 0.1912 - acc: 0.9280\n"
          ],
          "name": "stdout"
        }
      ]
    },
    {
      "cell_type": "code",
      "metadata": {
        "id": "MvqDXetel-Q8",
        "colab": {
          "base_uri": "https://localhost:8080/",
          "height": 34
        },
        "outputId": "c16730f7-5716-4e1e-c599-9e5bf753d8fe"
      },
      "source": [
        "accuracy"
      ],
      "execution_count": null,
      "outputs": [
        {
          "output_type": "execute_result",
          "data": {
            "text/plain": [
              "array([4, 9, 4, ..., 8, 8, 7])"
            ]
          },
          "metadata": {
            "tags": []
          },
          "execution_count": 20
        }
      ]
    },
    {
      "cell_type": "code",
      "metadata": {
        "id": "QSKhcdGlQd2s"
      },
      "source": [
        "# one hot encoder\n",
        "#from sklearn.preprocessing import LabelEncoder\n",
        "#le=LabelEncoder()\n",
        "#test_lable_encoded=le.fit_transform(test_lable)\n",
        "#sample_pridiction_encoded=le.fit_transform(sample_pridiction)\n",
        "\n",
        "from sklearn.metrics import confusion_matrix\n",
        "from sklearn.metrics import precision_score,recall_score,f1_score,classification_report\n",
        "\n"
      ],
      "execution_count": null,
      "outputs": []
    },
    {
      "cell_type": "code",
      "metadata": {
        "id": "xlk4XYlmgItr",
        "colab": {
          "base_uri": "https://localhost:8080/",
          "height": 54
        },
        "outputId": "bbd567c5-e9cf-4a3f-fe49-c42223d5d14a"
      },
      "source": [
        "#confusion matrix \n",
        "confusion_matrix(train_lable,accuracy)\n",
        "classification_report(train_lable,accuracy)"
      ],
      "execution_count": null,
      "outputs": [
        {
          "output_type": "execute_result",
          "data": {
            "text/plain": [
              "'              precision    recall  f1-score   support\\n\\n           0       0.85      0.88      0.86      6000\\n           1       0.99      0.98      0.99      6000\\n           2       0.87      0.86      0.87      6000\\n           3       0.91      0.92      0.92      6000\\n           4       0.84      0.87      0.86      6000\\n           5       0.99      0.98      0.98      6000\\n           6       0.77      0.72      0.75      6000\\n           7       0.96      0.97      0.96      6000\\n           8       0.98      0.98      0.98      6000\\n           9       0.97      0.96      0.97      6000\\n\\n    accuracy                           0.91     60000\\n   macro avg       0.91      0.91      0.91     60000\\nweighted avg       0.91      0.91      0.91     60000\\n'"
            ]
          },
          "metadata": {
            "tags": []
          },
          "execution_count": 46
        }
      ]
    },
    {
      "cell_type": "code",
      "metadata": {
        "id": "vsYY4_wkgUon",
        "colab": {
          "base_uri": "https://localhost:8080/",
          "height": 34
        },
        "outputId": "e268efc8-e5e0-45e4-de66-0daf61f488a9"
      },
      "source": [
        "#Precision_score\n",
        "precision_score(train_lable,accuracy,average='micro')*100\n",
        "# REcall_score\n",
        "recall_score(train_lable,accuracy,average='micro')\n",
        "# F1 Scoring\n",
        "f1_score(train_lable,accuracy,average='micro')"
      ],
      "execution_count": null,
      "outputs": [
        {
          "output_type": "execute_result",
          "data": {
            "text/plain": [
              "0.9142833333333332"
            ]
          },
          "metadata": {
            "tags": []
          },
          "execution_count": 47
        }
      ]
    },
    {
      "cell_type": "code",
      "metadata": {
        "id": "x9bLN6SN6K6I",
        "colab": {
          "base_uri": "https://localhost:8080/",
          "height": 34
        },
        "outputId": "c722dca5-cdcd-4f6b-bd3a-b67de96ef239"
      },
      "source": [
        "# summarize the Presicion_Recall_Curve Score\n",
        "\n",
        "from sklearn.metrics import precision_recall_curve\n",
        "from sklearn.preprocessing import LabelBinarizer\n",
        "from sklearn.metrics import roc_auc_score\n",
        "from sklearn.metrics import roc_curve\n",
        "\n",
        "lb = LabelBinarizer()\n",
        "lb.fit(train_lable)\n",
        "y_train_lable = lb.transform(train_lable)\n",
        "y_accuracy = lb.transform(accuracy)\n",
        "roc_auc_score(y_train_lable, y_accuracy, average=\"macro\")\n",
        "\n"
      ],
      "execution_count": null,
      "outputs": [
        {
          "output_type": "execute_result",
          "data": {
            "text/plain": [
              "0.9523796296296296"
            ]
          },
          "metadata": {
            "tags": []
          },
          "execution_count": 93
        }
      ]
    },
    {
      "cell_type": "code",
      "metadata": {
        "id": "7CIQRHXVv0EH"
      },
      "source": [
        ""
      ],
      "execution_count": null,
      "outputs": []
    }
  ]
}